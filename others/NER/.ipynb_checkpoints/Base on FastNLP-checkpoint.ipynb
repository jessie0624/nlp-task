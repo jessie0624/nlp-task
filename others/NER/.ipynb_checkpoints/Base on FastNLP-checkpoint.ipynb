{
 "cells": [
  {
   "cell_type": "markdown",
   "metadata": {},
   "source": [
    "## 微博命名实体识别"
   ]
  },
  {
   "cell_type": "code",
   "execution_count": 1,
   "metadata": {},
   "outputs": [
    {
     "name": "stderr",
     "output_type": "stream",
     "text": [
      "100%|██████████| 188k/188k [00:00<00:00, 4.83MB/s]\n"
     ]
    },
    {
     "name": "stdout",
     "output_type": "stream",
     "text": [
      "http://212.129.155.247/dataset/weibo_NER.zip not found in cache, downloading to /tmp/tmpmstc2nws\n",
      "Finish download from http://212.129.155.247/dataset/weibo_NER.zip\n",
      "Copy file to /root/.fastNLP/dataset/weibo_NER\n",
      "+---------------------+--------------------+--------------------+---------+\n",
      "| raw_chars           | target             | chars              | seq_len |\n",
      "+---------------------+--------------------+--------------------+---------+\n",
      "| ['科', '技', '全... | [0, 0, 0, 0, 0,... | [792, 1015, 156... | 26      |\n",
      "| ['对', '，', '输... | [0, 0, 0, 0, 0,... | [123, 2, 1205, ... | 15      |\n",
      "+---------------------+--------------------+--------------------+---------+\n"
     ]
    }
   ],
   "source": [
    "from fastNLP.io import WeiboNERPipe\n",
    "data_bundle = WeiboNERPipe().process_from_file()\n",
    "print(data_bundle.get_dataset('train')[:2])"
   ]
  },
  {
   "cell_type": "markdown",
   "metadata": {},
   "source": [
    "### 模型构建\n",
    "- embedding 选择 word2vec\n",
    "- 模型选择 BiLSTMCRF"
   ]
  },
  {
   "cell_type": "code",
   "execution_count": 3,
   "metadata": {},
   "outputs": [
    {
     "name": "stderr",
     "output_type": "stream",
     "text": [
      " 22%|██▏       | 819k/3.70M [00:00<00:00, 8.13MB/s]"
     ]
    },
    {
     "name": "stdout",
     "output_type": "stream",
     "text": [
      "http://212.129.155.247/embedding/cn_char_fastnlp_100d.zip not found in cache, downloading to /tmp/tmpmtdi75t_\n"
     ]
    },
    {
     "name": "stderr",
     "output_type": "stream",
     "text": [
      "100%|██████████| 3.70M/3.70M [00:00<00:00, 10.4MB/s]\n"
     ]
    },
    {
     "name": "stdout",
     "output_type": "stream",
     "text": [
      "Finish download from http://212.129.155.247/embedding/cn_char_fastnlp_100d.zip\n",
      "Copy file to /root/.fastNLP/embedding/cn_char_fastnlp_100d\n",
      "Found 3321 out of 3471 words in the pre-training embedding.\n"
     ]
    },
    {
     "name": "stderr",
     "output_type": "stream",
     "text": [
      "/pytorch/aten/src/ATen/native/TensorFactories.cpp:361: UserWarning: Deprecation warning: In a future PyTorch release torch.full will no longer return tensors of floating dtype by default. Instead, a bool fill_value will return a tensor of torch.bool dtype, and an integral fill_value will return a tensor of torch.long dtype. Set the optional `dtype` or `out` arguments to suppress this warning.\n"
     ]
    }
   ],
   "source": [
    "## Embedding 类型\n",
    "## 这里选择word2vec\n",
    "from fastNLP.embeddings import StaticEmbedding\n",
    "embed = StaticEmbedding(vocab=data_bundle.get_vocab('chars'), model_dir_or_name='cn-char-fastnlp-100d')"
   ]
  },
  {
   "cell_type": "code",
   "execution_count": 4,
   "metadata": {},
   "outputs": [],
   "source": [
    "## 使用BiLSTMCRF 模型来做命名实体识别\n",
    "from fastNLP.models import BiLSTMCRF\n",
    "data_bundle.rename_field('chars','words') #这是由于BiLSTMCRF模型的forward函数接受的是words， 而不是chars, 所以需要把这一列重命名\n",
    "model = BiLSTMCRF(embed=embed, num_classes=len(data_bundle.get_vocab('target')), \n",
    "                  num_layers=1, hidden_size=200, dropout=0.5, target_vocab=data_bundle.get_vocab('target'))"
   ]
  },
  {
   "cell_type": "markdown",
   "metadata": {},
   "source": [
    "### 进行训练\n",
    "- 选择评估模型的metric\n",
    "- 选择优化函数"
   ]
  },
  {
   "cell_type": "code",
   "execution_count": 6,
   "metadata": {},
   "outputs": [],
   "source": [
    "from fastNLP import SpanFPreRecMetric\n",
    "from torch.optim import Adam\n",
    "from fastNLP import LossInForward\n",
    "metric = SpanFPreRecMetric(tag_vocab=data_bundle.get_vocab('target'))\n",
    "optimizer = Adam(model.parameters(), lr=1e-2)\n",
    "loss = LossInForward()"
   ]
  },
  {
   "cell_type": "code",
   "execution_count": 8,
   "metadata": {},
   "outputs": [
    {
     "name": "stdout",
     "output_type": "stream",
     "text": [
      "input fields after batch(if batch size is 2):\n",
      "\ttarget: (1)type:torch.Tensor (2)dtype:torch.int64, (3)shape:torch.Size([2, 26]) \n",
      "\tseq_len: (1)type:torch.Tensor (2)dtype:torch.int64, (3)shape:torch.Size([2]) \n",
      "\twords: (1)type:torch.Tensor (2)dtype:torch.int64, (3)shape:torch.Size([2, 26]) \n",
      "target fields after batch(if batch size is 2):\n",
      "\ttarget: (1)type:torch.Tensor (2)dtype:torch.int64, (3)shape:torch.Size([2, 26]) \n",
      "\tseq_len: (1)type:torch.Tensor (2)dtype:torch.int64, (3)shape:torch.Size([2]) \n",
      "\n",
      "training epochs started 2020-09-07-01-51-40-217911\n"
     ]
    },
    {
     "data": {
      "application/vnd.jupyter.widget-view+json": {
       "model_id": "",
       "version_major": 2,
       "version_minor": 0
      },
      "text/plain": [
       "HBox(children=(FloatProgress(value=0.0, layout=Layout(flex='2'), max=430.0), HTML(value='')), layout=Layout(di…"
      ]
     },
     "metadata": {},
     "output_type": "display_data"
    },
    {
     "data": {
      "application/vnd.jupyter.widget-view+json": {
       "model_id": "",
       "version_major": 2,
       "version_minor": 0
      },
      "text/plain": [
       "HBox(children=(FloatProgress(value=0.0, layout=Layout(flex='2'), max=9.0), HTML(value='')), layout=Layout(disp…"
      ]
     },
     "metadata": {},
     "output_type": "display_data"
    },
    {
     "name": "stdout",
     "output_type": "stream",
     "text": [
      "\r",
      "Evaluate data in 0.48 seconds!\n",
      "\r",
      "Evaluation on dev at Epoch 1/10. Step:43/430: \n",
      "\r",
      "SpanFPreRecMetric: f=0.262877, pre=0.425287, rec=0.190231\n",
      "\n"
     ]
    },
    {
     "data": {
      "application/vnd.jupyter.widget-view+json": {
       "model_id": "",
       "version_major": 2,
       "version_minor": 0
      },
      "text/plain": [
       "HBox(children=(FloatProgress(value=0.0, layout=Layout(flex='2'), max=9.0), HTML(value='')), layout=Layout(disp…"
      ]
     },
     "metadata": {},
     "output_type": "display_data"
    },
    {
     "name": "stdout",
     "output_type": "stream",
     "text": [
      "\r",
      "Evaluate data in 0.48 seconds!\n",
      "\r",
      "Evaluation on dev at Epoch 2/10. Step:86/430: \n",
      "\r",
      "SpanFPreRecMetric: f=0.393162, pre=0.586735, rec=0.29563\n",
      "\n"
     ]
    },
    {
     "data": {
      "application/vnd.jupyter.widget-view+json": {
       "model_id": "",
       "version_major": 2,
       "version_minor": 0
      },
      "text/plain": [
       "HBox(children=(FloatProgress(value=0.0, layout=Layout(flex='2'), max=9.0), HTML(value='')), layout=Layout(disp…"
      ]
     },
     "metadata": {},
     "output_type": "display_data"
    },
    {
     "name": "stdout",
     "output_type": "stream",
     "text": [
      "\r",
      "Evaluate data in 0.49 seconds!\n",
      "\r",
      "Evaluation on dev at Epoch 3/10. Step:129/430: \n",
      "\r",
      "SpanFPreRecMetric: f=0.438849, pre=0.730539, rec=0.313625\n",
      "\n"
     ]
    },
    {
     "data": {
      "application/vnd.jupyter.widget-view+json": {
       "model_id": "",
       "version_major": 2,
       "version_minor": 0
      },
      "text/plain": [
       "HBox(children=(FloatProgress(value=0.0, layout=Layout(flex='2'), max=9.0), HTML(value='')), layout=Layout(disp…"
      ]
     },
     "metadata": {},
     "output_type": "display_data"
    },
    {
     "name": "stdout",
     "output_type": "stream",
     "text": [
      "\r",
      "Evaluate data in 0.47 seconds!\n",
      "\r",
      "Evaluation on dev at Epoch 4/10. Step:172/430: \n",
      "\r",
      "SpanFPreRecMetric: f=0.507331, pre=0.590444, rec=0.44473\n",
      "\n"
     ]
    },
    {
     "data": {
      "application/vnd.jupyter.widget-view+json": {
       "model_id": "",
       "version_major": 2,
       "version_minor": 0
      },
      "text/plain": [
       "HBox(children=(FloatProgress(value=0.0, layout=Layout(flex='2'), max=9.0), HTML(value='')), layout=Layout(disp…"
      ]
     },
     "metadata": {},
     "output_type": "display_data"
    },
    {
     "name": "stdout",
     "output_type": "stream",
     "text": [
      "\r",
      "Evaluate data in 0.46 seconds!\n",
      "\r",
      "Evaluation on dev at Epoch 5/10. Step:215/430: \n",
      "\r",
      "SpanFPreRecMetric: f=0.520059, pre=0.616197, rec=0.449871\n",
      "\n"
     ]
    },
    {
     "data": {
      "application/vnd.jupyter.widget-view+json": {
       "model_id": "",
       "version_major": 2,
       "version_minor": 0
      },
      "text/plain": [
       "HBox(children=(FloatProgress(value=0.0, layout=Layout(flex='2'), max=9.0), HTML(value='')), layout=Layout(disp…"
      ]
     },
     "metadata": {},
     "output_type": "display_data"
    },
    {
     "name": "stdout",
     "output_type": "stream",
     "text": [
      "\r",
      "Evaluate data in 0.5 seconds!\n",
      "\r",
      "Evaluation on dev at Epoch 6/10. Step:258/430: \n",
      "\r",
      "SpanFPreRecMetric: f=0.47138, pre=0.682927, rec=0.359897\n",
      "\n"
     ]
    },
    {
     "data": {
      "application/vnd.jupyter.widget-view+json": {
       "model_id": "",
       "version_major": 2,
       "version_minor": 0
      },
      "text/plain": [
       "HBox(children=(FloatProgress(value=0.0, layout=Layout(flex='2'), max=9.0), HTML(value='')), layout=Layout(disp…"
      ]
     },
     "metadata": {},
     "output_type": "display_data"
    },
    {
     "name": "stdout",
     "output_type": "stream",
     "text": [
      "\r",
      "Evaluate data in 0.46 seconds!\n",
      "\r",
      "Evaluation on dev at Epoch 7/10. Step:301/430: \n",
      "\r",
      "SpanFPreRecMetric: f=0.460751, pre=0.685279, rec=0.347044\n",
      "\n"
     ]
    },
    {
     "data": {
      "application/vnd.jupyter.widget-view+json": {
       "model_id": "",
       "version_major": 2,
       "version_minor": 0
      },
      "text/plain": [
       "HBox(children=(FloatProgress(value=0.0, layout=Layout(flex='2'), max=9.0), HTML(value='')), layout=Layout(disp…"
      ]
     },
     "metadata": {},
     "output_type": "display_data"
    },
    {
     "name": "stdout",
     "output_type": "stream",
     "text": [
      "\r",
      "Evaluate data in 0.47 seconds!\n",
      "\r",
      "Evaluation on dev at Epoch 8/10. Step:344/430: \n",
      "\r",
      "SpanFPreRecMetric: f=0.491551, pre=0.610687, rec=0.411311\n",
      "\n"
     ]
    },
    {
     "data": {
      "application/vnd.jupyter.widget-view+json": {
       "model_id": "",
       "version_major": 2,
       "version_minor": 0
      },
      "text/plain": [
       "HBox(children=(FloatProgress(value=0.0, layout=Layout(flex='2'), max=9.0), HTML(value='')), layout=Layout(disp…"
      ]
     },
     "metadata": {},
     "output_type": "display_data"
    },
    {
     "name": "stdout",
     "output_type": "stream",
     "text": [
      "\r",
      "Evaluate data in 0.42 seconds!\n",
      "\r",
      "Evaluation on dev at Epoch 9/10. Step:387/430: \n",
      "\r",
      "SpanFPreRecMetric: f=0.477093, pre=0.618852, rec=0.388175\n",
      "\n"
     ]
    },
    {
     "data": {
      "application/vnd.jupyter.widget-view+json": {
       "model_id": "",
       "version_major": 2,
       "version_minor": 0
      },
      "text/plain": [
       "HBox(children=(FloatProgress(value=0.0, layout=Layout(flex='2'), max=9.0), HTML(value='')), layout=Layout(disp…"
      ]
     },
     "metadata": {},
     "output_type": "display_data"
    },
    {
     "name": "stdout",
     "output_type": "stream",
     "text": [
      "\r",
      "Evaluate data in 0.41 seconds!\n",
      "\r",
      "Evaluation on dev at Epoch 10/10. Step:430/430: \n",
      "\r",
      "SpanFPreRecMetric: f=0.486656, pre=0.625, rec=0.398458\n",
      "\n",
      "Reloaded the best model.\n",
      "\n",
      "In Epoch:5/Step:215, got best dev performance:\n",
      "SpanFPreRecMetric: f=0.520059, pre=0.616197, rec=0.449871\n"
     ]
    },
    {
     "data": {
      "text/plain": [
       "{'best_eval': {'SpanFPreRecMetric': {'f': 0.520059,\n",
       "   'pre': 0.616197,\n",
       "   'rec': 0.449871}},\n",
       " 'best_epoch': 5,\n",
       " 'best_step': 215,\n",
       " 'seconds': 67.04}"
      ]
     },
     "execution_count": 8,
     "metadata": {},
     "output_type": "execute_result"
    }
   ],
   "source": [
    "## 使用trainer进行训练\n",
    "from fastNLP import Trainer\n",
    "import torch\n",
    "device = 0 if torch.cuda.is_available() else \"cpu\"\n",
    "trainer = Trainer(data_bundle.get_dataset('train'), model, loss=loss, optimizer=optimizer,\n",
    "                   dev_data=data_bundle.get_dataset('dev'), metrics=metric, device=device)\n",
    "trainer.train()"
   ]
  },
  {
   "cell_type": "code",
   "execution_count": 9,
   "metadata": {},
   "outputs": [
    {
     "data": {
      "application/vnd.jupyter.widget-view+json": {
       "model_id": "",
       "version_major": 2,
       "version_minor": 0
      },
      "text/plain": [
       "HBox(children=(FloatProgress(value=0.0, layout=Layout(flex='2'), max=17.0), HTML(value='')), layout=Layout(dis…"
      ]
     },
     "metadata": {},
     "output_type": "display_data"
    },
    {
     "name": "stdout",
     "output_type": "stream",
     "text": [
      "Evaluate data in 0.7 seconds!\n",
      "[tester] \n",
      "SpanFPreRecMetric: f=0.452599, pre=0.627119, rec=0.354067\n"
     ]
    },
    {
     "data": {
      "text/plain": [
       "{'SpanFPreRecMetric': {'f': 0.452599, 'pre': 0.627119, 'rec': 0.354067}}"
      ]
     },
     "execution_count": 9,
     "metadata": {},
     "output_type": "execute_result"
    }
   ],
   "source": [
    "from fastNLP import Tester\n",
    "tester = Tester(data_bundle.get_dataset('test'), model, metrics=metric)\n",
    "tester.test()"
   ]
  },
  {
   "cell_type": "markdown",
   "metadata": {},
   "source": [
    "## 使用BERT 做embedding"
   ]
  },
  {
   "cell_type": "code",
   "execution_count": null,
   "metadata": {},
   "outputs": [
    {
     "name": "stdout",
     "output_type": "stream",
     "text": [
      "loading vocabulary file /root/.fastNLP/embedding/bert-chinese-wwm/vocab.txt\n",
      "Load pre-trained BERT parameters from file /root/.fastNLP/embedding/bert-chinese-wwm/chinese_wwm_pytorch.bin.\n",
      "Start to generate word pieces for word.\n",
      "87 words are unsegmented. Among them, 51 added to the BPE vocab.\n",
      "input fields after batch(if batch size is 2):\n",
      "\ttarget: (1)type:torch.Tensor (2)dtype:torch.int64, (3)shape:torch.Size([2, 26]) \n",
      "\tseq_len: (1)type:torch.Tensor (2)dtype:torch.int64, (3)shape:torch.Size([2]) \n",
      "\twords: (1)type:torch.Tensor (2)dtype:torch.int64, (3)shape:torch.Size([2, 26]) \n",
      "target fields after batch(if batch size is 2):\n",
      "\ttarget: (1)type:torch.Tensor (2)dtype:torch.int64, (3)shape:torch.Size([2, 26]) \n",
      "\tseq_len: (1)type:torch.Tensor (2)dtype:torch.int64, (3)shape:torch.Size([2]) \n",
      "\n",
      "training epochs started 2020-09-07-02-02-14-850967\n"
     ]
    },
    {
     "data": {
      "application/vnd.jupyter.widget-view+json": {
       "model_id": "5c629f98270a4106907b35a9806e8d94",
       "version_major": 2,
       "version_minor": 0
      },
      "text/plain": [
       "HBox(children=(FloatProgress(value=0.0, layout=Layout(flex='2'), max=2250.0), HTML(value='')), layout=Layout(d…"
      ]
     },
     "metadata": {},
     "output_type": "display_data"
    }
   ],
   "source": [
    "from fastNLP.io import WeiboNERPipe\n",
    "from fastNLP.models import BiLSTMCRF\n",
    "data_bundle = WeiboNERPipe().process_from_file()\n",
    "data_bundle.rename_field('chars', 'words')\n",
    "\n",
    "from fastNLP.embeddings import BertEmbedding\n",
    "embed = BertEmbedding(vocab=data_bundle.get_vocab('words'), model_dir_or_name='cn')\n",
    "model = BiLSTMCRF(embed=embed, num_classes=len(data_bundle.get_vocab('target')), num_layers=1,\n",
    "                 target_vocab=data_bundle.get_vocab('target'))\n",
    "\n",
    "from fastNLP import SpanFPreRecMetric\n",
    "from torch.optim import Adam\n",
    "from fastNLP import LossInForward\n",
    "metric = SpanFPreRecMetric(tag_vocab=data_bundle.get_vocab('target'))\n",
    "optimizer = Adam(model.parameters(), lr=2e-5)\n",
    "loss = LossInForward()\n",
    "\n",
    "from fastNLP import Trainer\n",
    "import torch\n",
    "device=0 if torch.cuda.is_available() else 'cpu'\n",
    "trainer = Trainer(data_bundle.get_dataset('train'), model, loss=loss, \n",
    "                  optimizer=optimizer, batch_size=6,\n",
    "                  dev_data=data_bundle.get_dataset('dev'), metrics=metric, device=device)\n",
    "trainer.train()\n",
    "\n",
    "from fastNLP import Tester\n",
    "tester = Tester(data_bundle.get_dataset('test'), model, metrics=metrics)\n",
    "tester.test()"
   ]
  },
  {
   "cell_type": "code",
   "execution_count": null,
   "metadata": {},
   "outputs": [],
   "source": []
  },
  {
   "cell_type": "code",
   "execution_count": null,
   "metadata": {},
   "outputs": [],
   "source": []
  }
 ],
 "metadata": {
  "kernelspec": {
   "display_name": "Python (osgeo)",
   "language": "python",
   "name": "osgeo"
  },
  "language_info": {
   "codemirror_mode": {
    "name": "ipython",
    "version": 3
   },
   "file_extension": ".py",
   "mimetype": "text/x-python",
   "name": "python",
   "nbconvert_exporter": "python",
   "pygments_lexer": "ipython3",
   "version": "3.6.8"
  }
 },
 "nbformat": 4,
 "nbformat_minor": 4
}
